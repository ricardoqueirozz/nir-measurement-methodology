{
 "cells": [
  {
   "cell_type": "markdown",
   "metadata": {
    "id": "nH1kX0sEsCC4"
   },
   "source": [
    "## **Imports**"
   ]
  },
  {
   "cell_type": "markdown",
   "metadata": {
    "id": "UBfDTmWFsYg_"
   },
   "source": [
    "First, it's necessary to import the libraries that will be used in the script below and the dataset obtained from the [website](https://sistemas.anatel.gov.br/se/public/view/b/licenciamento.php) of the Brazilian National Telecommunications Agency."
   ]
  },
  {
   "cell_type": "markdown",
   "metadata": {
    "id": "nH1kX0sEsCC4"
   },
   "source": [
    "### **Libraries**"
   ]
  },
  {
   "cell_type": "code",
   "execution_count": 159,
   "metadata": {
    "executionInfo": {
     "elapsed": 418,
     "status": "ok",
     "timestamp": 1716925015549,
     "user": {
      "displayName": "RICARDO SILVA",
      "userId": "09638502435797738749"
     },
     "user_tz": 180
    },
    "id": "J-I-XrgDrw4O"
   },
   "outputs": [],
   "source": [
    "import pandas as pd\n",
    "import matplotlib.pyplot as plt\n",
    "import numpy as np\n",
    "import math\n",
    "import zipfile\n",
    "import os"
   ]
  },
  {
   "cell_type": "markdown",
   "metadata": {
    "id": "nH1kX0sEsCC4"
   },
   "source": [
    "### **Dataset**\n",
    "\n",
    "The dataset columns used in this scripts are:\n",
    "* **'NumEstacao':** unique number that characterizes a station;\n",
    "* **'DataValidade':** expiration date of that radio frequency associated with the station;\n",
    "* **'Azimute':** positioning in degrees in relation to the north of the antenna radiation main lobe;\n",
    "* **'AnguloMeiaPotenciaAntena':** half power angle in degrees."
   ]
  },
  {
   "cell_type": "code",
   "execution_count": 160,
   "metadata": {
    "colab": {
     "base_uri": "https://localhost:8080/"
    },
    "executionInfo": {
     "elapsed": 2050,
     "status": "ok",
     "timestamp": 1716925017596,
     "user": {
      "displayName": "RICARDO SILVA",
      "userId": "09638502435797738749"
     },
     "user_tz": 180
    },
    "id": "DF_iVOqqsLg_",
    "outputId": "1cc227f6-1b7d-4f74-90fb-5e2a2674df59"
   },
   "outputs": [],
   "source": [
    "#The variable path must contain a string with the path to the dataset used.\n",
    "path = '/home/oai-ufrn/Repositories/nir-measurement-methodology/dataset/csv_licenciamento_2e8f645ab8074b48e0421115d284a2da.csv'\n",
    "df = pd.read_csv(path, encoding='unicode_escape')"
   ]
  },
  {
   "cell_type": "markdown",
   "metadata": {
    "id": "UBfDTmWFsYg_"
   },
   "source": [
    "## **Data Adjustment**"
   ]
  },
  {
   "cell_type": "markdown",
   "metadata": {
    "id": "UBfDTmWFsYg_"
   },
   "source": [
    "The cell below creates a dataframe with the stations selected in previous steps of the methodology, it must be changed with the station numbers of the scenario to be evaluated."
   ]
  },
  {
   "cell_type": "code",
   "execution_count": 161,
   "metadata": {
    "executionInfo": {
     "elapsed": 4,
     "status": "ok",
     "timestamp": 1716925017597,
     "user": {
      "displayName": "RICARDO SILVA",
      "userId": "09638502435797738749"
     },
     "user_tz": 180
    },
    "id": "SPo_YwelYlm4"
   },
   "outputs": [],
   "source": [
    "filter = {\n",
    "    'NumStation': [\n",
    "        922234, 922242, 5187354, 6556752, 431377928, 441068146, 665600062, 686142519,\n",
    "        686143205, 686696786, 690004206, 690904738, 690905823, 690905866, 690905874,\n",
    "        690905912, 690905939, 691182450, 691182701, 691182728, 691182760, 691182850,\n",
    "        691182930, 691182957, 691183031, 691183082, 691223149, 691346259, 691347646,\n",
    "        691348090, 691571643, 692295992, 692700170, 692817107, 692914501, 693190442,\n",
    "        695207075, 695364405, 695561146, 695561219, 695706616, 698154673, 698178238,\n",
    "        1001843867, 1002291736, 1003228795, 1003326657, 1004211527, 1005215631, 1005343001,\n",
    "        1006733571, 1006918474, 1008016842, 1008016958, 1008246368, 1008246376, 1008690713,\n",
    "        1008779110, 1009580156, 1010052729, 1015604703, 1015630488\n",
    "]}\n",
    "filter = pd.DataFrame(filter)"
   ]
  },
  {
   "cell_type": "markdown",
   "metadata": {
    "id": "UBfDTmWFsYg_"
   },
   "source": [
    "Some columns are not in the a format usable for the script, so they have been fixed. After this, for each station, is selected the lowest value of half power degree from each unique azimuth value."
   ]
  },
  {
   "cell_type": "code",
   "execution_count": 162,
   "metadata": {
    "executionInfo": {
     "elapsed": 4,
     "status": "ok",
     "timestamp": 1716925017597,
     "user": {
      "displayName": "RICARDO SILVA",
      "userId": "09638502435797738749"
     },
     "user_tz": 180
    },
    "id": "SPo_YwelYlm4"
   },
   "outputs": [],
   "source": [
    "#Conversion of the column 'DataValidade' to the datetime64[ns] type.\n",
    "df['DataValidade'] = pd.to_datetime(df['DataValidade'])\n",
    "\n",
    "#Exclusion of lines of 'DataValidade' prior to December 31, 2023.\n",
    "df = df[df['DataValidade'] > pd.to_datetime('2024-01-01', format='%Y-%m-%d')]\n",
    "\n",
    "#Filtering of the ANATEL's dataset based on the stations manually selected.\n",
    "df_filtered = df.loc[df['NumEstacao'].isin(filter['NumStation'])].copy()\n",
    "\n",
    "#Correction of the data type of the columns 'Azimute' and the 'AnguloMeiaPotenciaAntena'.\n",
    "df_filtered['Azimute'] = pd.to_numeric(df['Azimute'], errors='coerce')\n",
    "df_filtered['Azimute'] = df_filtered['Azimute'].astype(int)\n",
    "df_filtered['AnguloMeiaPotenciaAntena'] = pd.to_numeric(df['AnguloMeiaPotenciaAntena'], errors='coerce')\n",
    "df_filtered['AnguloElevacao'] = pd.to_numeric(df_filtered['AnguloElevacao'], errors='coerce')"
   ]
  },
  {
   "cell_type": "markdown",
   "metadata": {
    "id": "UBfDTmWFsYg_"
   },
   "source": [
    "Only the lowest value of the half-power angle must to be used in the plots. The script below arrange the data in a list of tuples, which contain: \n",
    "1) The station number;\n",
    "2) The station azimuths;\n",
    "3) The smallest half-power angles for each azimuth. "
   ]
  },
  {
   "cell_type": "code",
   "execution_count": 163,
   "metadata": {
    "executionInfo": {
     "elapsed": 4,
     "status": "ok",
     "timestamp": 1716925017597,
     "user": {
      "displayName": "RICARDO SILVA",
      "userId": "09638502435797738749"
     },
     "user_tz": 180
    },
    "id": "SPo_YwelYlm4"
   },
   "outputs": [],
   "source": [
    "#Agrupa os dados por 'NumEstacao' e 'Azimute' e seleciona o valor mais elevado de 'AnguloMeiaPotenciaAntena'\n",
    "min_values = df_filtered.groupby(['NumEstacao', 'Azimute', 'AnguloElevacao'])['AnguloMeiaPotenciaAntena'].min().reset_index()\n",
    "\n",
    "#Finds the minimum non-zero value in 'AnguloMeiaPotenciaAntena'.\n",
    "for index, row in min_values.iterrows():\n",
    "    if row['AnguloMeiaPotenciaAntena'] <= 0:\n",
    "        next_min = df_filtered[(df_filtered['NumEstacao'] == row['NumEstacao']) & (df_filtered['Azimute'] == row['Azimute']) & (df_filtered['AnguloMeiaPotenciaAntena'] > 0)]['AnguloMeiaPotenciaAntena'].min()\n",
    "        if not math.isnan(next_min):\n",
    "            min_values.at[index, 'AnguloMeiaPotenciaAntena'] = next_min\n",
    "\n",
    "#Group by 'NumEstacao' and build the list of azimuths and minimum half-power angle values, forming a list of tuples.\n",
    "df_stations_info = []\n",
    "for station in min_values['NumEstacao'].unique():\n",
    "    temp = min_values[min_values['NumEstacao'] == station]\n",
    "    azimuths = temp['Azimute'].tolist()\n",
    "    half_power_angles = temp['AnguloMeiaPotenciaAntena'].tolist()\n",
    "    downtilt = temp['AnguloElevacao'].tolist()\n",
    "    df_stations_info.append((station, azimuths, half_power_angles, downtilt))\n",
    "#print(df_stations_info)"
   ]
  },
  {
   "cell_type": "markdown",
   "metadata": {
    "id": "UBfDTmWFsYg_"
   },
   "source": [
    "In case of multi-tenant cell situations, the information of each station must to be grouped, so the function below was designed to do this grouping."
   ]
  },
  {
   "cell_type": "code",
   "execution_count": 164,
   "metadata": {
    "executionInfo": {
     "elapsed": 3,
     "status": "ok",
     "timestamp": 1716925017597,
     "user": {
      "displayName": "RICARDO SILVA",
      "userId": "09638502435797738749"
     },
     "user_tz": 180
    },
    "id": "eXJNpA_J4Po_"
   },
   "outputs": [],
   "source": [
    "def group_stations(info, *stations):\n",
    "    # Check if at least two stations are to be grouped\n",
    "    if len(stations) < 2:\n",
    "        return \"At least two stations are required for merging.\"\n",
    "\n",
    "    # Find data for each station in the list\n",
    "    station_data = []\n",
    "    for station in stations:\n",
    "        station_info = None\n",
    "        for data in info:\n",
    "            if data[0] == station:\n",
    "                station_info = data\n",
    "                break\n",
    "        if station_info is None:\n",
    "            return f\"Station {station} not found in the configuration list.\"\n",
    "        station_data.append(station_info)\n",
    "\n",
    "    # Combine station data while ensuring unique (azimuth, downtilt) pairs with the smallest half power angle\n",
    "    azimuth_downtilt_to_half_power_angle = {}\n",
    "    for data in station_data:\n",
    "        if data[1] is not None and data[2] is not None and data[3] is not None:\n",
    "            for azimuth, angle, downtilt in zip(data[1], data[2], data[3]):\n",
    "                key = (azimuth, downtilt)\n",
    "                if key not in azimuth_downtilt_to_half_power_angle or angle < azimuth_downtilt_to_half_power_angle[key]:\n",
    "                    azimuth_downtilt_to_half_power_angle[key] = angle\n",
    "\n",
    "    # Extract the combined data\n",
    "    new_azimuths = [key[0] for key in azimuth_downtilt_to_half_power_angle.keys()]\n",
    "    new_downtilts = [key[1] for key in azimuth_downtilt_to_half_power_angle.keys()]\n",
    "    new_half_power_angles = [azimuth_downtilt_to_half_power_angle[key] for key in azimuth_downtilt_to_half_power_angle.keys()]\n",
    "\n",
    "    # Create the number of the new station\n",
    "    new_station_number = ' and '.join(map(str, stations))\n",
    "\n",
    "    # Remove original stations from the list\n",
    "    for station in station_data:\n",
    "        info.remove(station)\n",
    "\n",
    "    # Add the new combined station to the list\n",
    "    info.append((new_station_number, new_azimuths, new_half_power_angles, new_downtilts))\n",
    "\n",
    "    # Return the updated list\n",
    "    return info"
   ]
  },
  {
   "cell_type": "markdown",
   "metadata": {
    "id": "UBfDTmWFsYg_"
   },
   "source": [
    "The cell below creates a dataframe with the combinations of ERBs that share the same infrastructure. Each column is an association of different Station Numbers, it was also formulated manually following the methodology of the work and needs to be redone for the scenario to be evaluated."
   ]
  },
  {
   "cell_type": "code",
   "execution_count": 165,
   "metadata": {
    "executionInfo": {
     "elapsed": 3,
     "status": "ok",
     "timestamp": 1716925017597,
     "user": {
      "displayName": "RICARDO SILVA",
      "userId": "09638502435797738749"
     },
     "user_tz": 180
    },
    "id": "eXJNpA_J4Po_"
   },
   "outputs": [],
   "source": [
    "import pandas as pd\n",
    "\n",
    "combinations = {\n",
    "    'station1': [695207075, 1005343001, 1010052729, 1003228795, 1008016842, 1015630488, 691182957],\n",
    "    'station2': [922234,    690905874,  1009580156, 691183082,  690905866,  1003326657, 692817107],\n",
    "    'station3': [None,      None,       None,       None,       None,       691182728,  None]\n",
    "}\n",
    "multi_tenant_towers = pd.DataFrame(combinations)\n",
    "\n",
    "# Runs the grouping function\n",
    "for index, row in multi_tenant_towers.iterrows():\n",
    "    stations = [int(value) if pd.notnull(value) else None for value in row.values] # Ignore the 'Nones', they only exist so that the list has the same dimensions.\n",
    "    stations = [station for station in stations if station is not None] # Remove the 'Nones' before creating the list of grouped stations.\n",
    "    df_stations_grouped_info = group_stations(df_stations_info, *stations)\n",
    "\n",
    "df_stations_grouped_info_rearranged = []\n",
    "\n",
    "# Função para adicionar dados à lista de tuplas com um valor específico de half_power_angles\n",
    "def add_station_info_with_half_power_angle(df_stations_info, half_power_angle):\n",
    "    for station_info in df_stations_info:\n",
    "        station_id = station_info[0]\n",
    "        azimuths = station_info[1]\n",
    "        downtilts = station_info[3]\n",
    "\n",
    "        for i in range(len(azimuths)):\n",
    "            temp_tuple = (station_id, [azimuths[i]], [half_power_angle], [downtilts[i]])\n",
    "            df_stations_grouped_info_rearranged.append(temp_tuple)\n",
    "\n",
    "# Primeira iteração com half_power_angles igual a 3.7\n",
    "add_station_info_with_half_power_angle(df_stations_info, 3.7)\n",
    "\n",
    "# Segunda iteração com half_power_angles igual a 17.2\n",
    "add_station_info_with_half_power_angle(df_stations_info, 17.2)\n",
    "\n",
    "#print(df_stations_grouped_info_rearranged)"
   ]
  },
  {
   "cell_type": "markdown",
   "metadata": {
    "id": "BvNS8JI0s7KH"
   },
   "source": [
    "## **Plots**"
   ]
  },
  {
   "cell_type": "markdown",
   "metadata": {
    "id": "UBfDTmWFsYg_"
   },
   "source": [
    "The cells below plots the polar graphs of the coverage area of the stations and save it to a .zip file."
   ]
  },
  {
   "cell_type": "code",
   "execution_count": 166,
   "metadata": {
    "colab": {
     "base_uri": "https://localhost:8080/",
     "height": 34
    },
    "executionInfo": {
     "elapsed": 67296,
     "status": "ok",
     "timestamp": 1716925084890,
     "user": {
      "displayName": "RICARDO SILVA",
      "userId": "09638502435797738749"
     },
     "user_tz": 180
    },
    "id": "zw7iqHt2Ylm6",
    "outputId": "904c387d-19c9-46c6-88b7-5efe9d63b7e7"
   },
   "outputs": [],
   "source": [
    "def plot(azimuths, half_power_angles, downtilts, filename, rotate=False):\n",
    "    #Deixa todas as barras com tamanho 1, faz com que a visualização da área de cobertura do setor da ERB seja preenchida do zero até a borda do gráfico\n",
    "    height_values = [1] * len(azimuths)\n",
    "\n",
    "    if rotate:\n",
    "        downtilts = [(180 - d ) for d in downtilts]\n",
    "    else:\n",
    "        downtilts = [360 + d if d < 0 else d for d in downtilts]\n",
    "\n",
    "    #Converte os ângulos de graus para radianos para serem plotados\n",
    "    azimuths_rad = np.deg2rad(azimuths)\n",
    "    downtilts_rad = np.deg2rad(downtilts)\n",
    "    half_power_angles_rad = np.deg2rad(half_power_angles)\n",
    "\n",
    "    #Cria o plot polar\n",
    "    plt.figure()\n",
    "    ax = plt.subplot(111, polar=True)\n",
    "\n",
    "    #Plota as areas de cobertura\n",
    "    ax.bar(x=downtilts_rad, height=height_values, width=half_power_angles_rad, color='#FFCE00', alpha=0.3)\n",
    "\n",
    "    # Plota as linhas vermelhas dos azimutes\n",
    "    for downtilt_rad in downtilts_rad:\n",
    "        ax.plot([0, downtilt_rad], [0, 1], color='red', linewidth='2')\n",
    "        for half_power_angle_rad in half_power_angles_rad:\n",
    "            ax.plot([0, ((half_power_angle_rad/2) + downtilt_rad)], [0, 1], color='black', linewidth='2')\n",
    "            ax.plot([0, ((half_power_angle_rad/2) - half_power_angle_rad+ downtilt_rad)], [0, 1], color='black', linewidth='2')\n",
    "        plt.gcf().set_facecolor(\"none\")\n",
    "\n",
    "    #Cria as labels dos downtilt\n",
    "    if rotate:\n",
    "        labels = [f'{round(180 - d, 1)}°' for d in downtilts]\n",
    "    else:\n",
    "        labels = [f'{round(d - 360, 1)}°' if d > 350 else d for d in downtilts]\n",
    "\n",
    "    #Configurações de plot\n",
    "    ax.set_ylim(0, 1)\n",
    "    ax.set_xticks(downtilts_rad)\n",
    "    ax.set_xticklabels(labels, fontsize=12, weight='bold', fontfamily='serif')\n",
    "    ax.set_yticklabels([])\n",
    "    ax.grid(False)\n",
    "    ax.spines['polar'].set_visible(False)\n",
    "\n",
    "    # Salva a figura localmente\n",
    "    plt.savefig(filename, format='png', dpi=600, transparent=True)\n",
    "    plt.close()\n",
    "\n",
    "    return rotate"
   ]
  },
  {
   "cell_type": "code",
   "execution_count": 167,
   "metadata": {},
   "outputs": [],
   "source": [
    "# List to store generated file names\n",
    "filenames = []\n",
    "\n",
    "#Generate and save graphs\n",
    "for station, azimuths, half_power_angles, downtilts in df_stations_grouped_info_rearranged:\n",
    "    filename = f'{station}_az:{azimuths[0]}_dt{downtilts[0]}_mpot:{half_power_angles[0]}.png'  # Nome do arquivo único\n",
    "    rotate = plot(azimuths, half_power_angles, downtilts, filename, rotate=False)\n",
    "    filenames.append(filename)\n",
    "\n",
    "direction = 'left' if rotate else 'right'\n",
    "\n",
    "#Create and save the .zip file\n",
    "zip_filename = f'floor_analysis_{direction}.zip'\n",
    "with zipfile.ZipFile(zip_filename, 'w') as zipf:\n",
    "    for filename in filenames:\n",
    "        zipf.write(filename)\n",
    "\n",
    "#Remove PNG files after adding to zip\n",
    "for filename in filenames:\n",
    "    os.remove(filename)"
   ]
  },
  {
   "cell_type": "code",
   "execution_count": null,
   "metadata": {},
   "outputs": [],
   "source": []
  }
 ],
 "metadata": {
  "colab": {
   "authorship_tag": "ABX9TyOeHkthpdgYg8eBVIF1Y3GI",
   "provenance": []
  },
  "kernelspec": {
   "display_name": "Python 3 (ipykernel)",
   "language": "python",
   "name": "python3"
  },
  "language_info": {
   "codemirror_mode": {
    "name": "ipython",
    "version": 3
   },
   "file_extension": ".py",
   "mimetype": "text/x-python",
   "name": "python",
   "nbconvert_exporter": "python",
   "pygments_lexer": "ipython3",
   "version": "3.10.12"
  }
 },
 "nbformat": 4,
 "nbformat_minor": 4
}
