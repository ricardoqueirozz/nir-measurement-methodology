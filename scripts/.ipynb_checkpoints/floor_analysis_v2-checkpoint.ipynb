{
 "cells": [
  {
   "cell_type": "markdown",
   "metadata": {
    "id": "nH1kX0sEsCC4"
   },
   "source": [
    "## **Imports**"
   ]
  },
  {
   "cell_type": "markdown",
   "metadata": {
    "id": "UBfDTmWFsYg_"
   },
   "source": [
    "First, it's necessary to import the libraries that will be used in the script below and the dataset obtained from the [website](https://sistemas.anatel.gov.br/se/public/view/b/licenciamento.php) of the Brazilian National Telecommunications Agency."
   ]
  },
  {
   "cell_type": "markdown",
   "metadata": {
    "id": "nH1kX0sEsCC4"
   },
   "source": [
    "### **Libraries**"
   ]
  },
  {
   "cell_type": "code",
   "execution_count": 91,
   "metadata": {
    "executionInfo": {
     "elapsed": 418,
     "status": "ok",
     "timestamp": 1716925015549,
     "user": {
      "displayName": "RICARDO SILVA",
      "userId": "09638502435797738749"
     },
     "user_tz": 180
    },
    "id": "J-I-XrgDrw4O"
   },
   "outputs": [],
   "source": [
    "import pandas as pd\n",
    "import matplotlib.pyplot as plt\n",
    "import numpy as np\n",
    "import math\n",
    "import zipfile\n",
    "import os"
   ]
  },
  {
   "cell_type": "markdown",
   "metadata": {
    "id": "nH1kX0sEsCC4"
   },
   "source": [
    "### **Dataset**\n",
    "\n",
    "The dataset columns used in this scripts are:\n",
    "* **'NumEstacao':** unique number that characterizes a station;\n",
    "* **'DataValidade':** expiration date of that radio frequency associated with the station;\n",
    "* **'Azimute':** positioning in degrees in relation to the north of the antenna radiation main lobe;\n",
    "* **'AnguloMeiaPotenciaAntena':** half power angle in degrees;\n",
    "* **'AnguloElevacao':** downtilt of the antenna."
   ]
  },
  {
   "cell_type": "code",
   "execution_count": 92,
   "metadata": {
    "colab": {
     "base_uri": "https://localhost:8080/"
    },
    "executionInfo": {
     "elapsed": 2050,
     "status": "ok",
     "timestamp": 1716925017596,
     "user": {
      "displayName": "RICARDO SILVA",
      "userId": "09638502435797738749"
     },
     "user_tz": 180
    },
    "id": "DF_iVOqqsLg_",
    "outputId": "1cc227f6-1b7d-4f74-90fb-5e2a2674df59"
   },
   "outputs": [],
   "source": [
    "#The variable path must contain a string with the path to the dataset used.\n",
    "path = '/home/oai-ufrn/Repositories/nir-measurement-methodology/dataset/csv_licenciamento_2e8f645ab8074b48e0421115d284a2da.csv'\n",
    "df = pd.read_csv(path, encoding='unicode_escape')"
   ]
  },
  {
   "cell_type": "markdown",
   "metadata": {
    "id": "UBfDTmWFsYg_"
   },
   "source": [
    "## **Data Adjustment**"
   ]
  },
  {
   "cell_type": "markdown",
   "metadata": {
    "id": "UBfDTmWFsYg_"
   },
   "source": [
    "The cell below creates a dataframe with the stations selected in previous steps of the methodology, it must be changed with the station numbers of the scenario to be evaluated."
   ]
  },
  {
   "cell_type": "code",
   "execution_count": 93,
   "metadata": {
    "executionInfo": {
     "elapsed": 4,
     "status": "ok",
     "timestamp": 1716925017597,
     "user": {
      "displayName": "RICARDO SILVA",
      "userId": "09638502435797738749"
     },
     "user_tz": 180
    },
    "id": "SPo_YwelYlm4"
   },
   "outputs": [],
   "source": [
    "filter = {\n",
    "    'NumStation': [\n",
    "        922234, 922242, 5187354, 6556752, 431377928, 441068146, 665600062, 686142519,\n",
    "        686143205, 686696786, 690004206, 690904738, 690905823, 690905866, 690905874,\n",
    "        690905912, 690905939, 691182450, 691182701, 691182728, 691182760, 691182850,\n",
    "        691182930, 691182957, 691183031, 691183082, 691223149, 691346259, 691347646,\n",
    "        691348090, 691571643, 692295992, 692700170, 692817107, 692914501, 693190442,\n",
    "        695207075, 695364405, 695561146, 695561219, 695706616, 698154673, 698178238,\n",
    "        1001843867, 1002291736, 1003228795, 1003326657, 1004211527, 1005215631, 1005343001,\n",
    "        1006733571, 1006918474, 1008016842, 1008016958, 1008246368, 1008246376, 1008690713,\n",
    "        1008779110, 1009580156, 1010052729, 1015604703, 1015630488\n",
    "]}\n",
    "filter = pd.DataFrame(filter)"
   ]
  },
  {
   "cell_type": "markdown",
   "metadata": {
    "id": "UBfDTmWFsYg_"
   },
   "source": [
    "Some columns are not in the a format usable for the script, so they have been fixed. Rows whose 'DataValidade' value is prior to the year the work was developed need to be removed."
   ]
  },
  {
   "cell_type": "code",
   "execution_count": 94,
   "metadata": {
    "executionInfo": {
     "elapsed": 4,
     "status": "ok",
     "timestamp": 1716925017597,
     "user": {
      "displayName": "RICARDO SILVA",
      "userId": "09638502435797738749"
     },
     "user_tz": 180
    },
    "id": "SPo_YwelYlm4"
   },
   "outputs": [],
   "source": [
    "#Conversion of the column 'DataValidade' to the datetime64[ns] type.\n",
    "df['DataValidade'] = pd.to_datetime(df['DataValidade'])\n",
    "\n",
    "#Exclusion of lines of 'DataValidade' prior to December 31, 2023.\n",
    "df = df[df['DataValidade'] > pd.to_datetime('2024-01-01', format='%Y-%m-%d')]\n",
    "\n",
    "#Filtering of the ANATEL's dataset based on the stations manually selected.\n",
    "df_filtered = df.loc[df['NumEstacao'].isin(filter['NumStation'])].copy()\n",
    "\n",
    "#Correction of the data type of the columns 'Azimute', 'AnguloMeiaPotenciaAntena' and 'AnguloElevacao'.\n",
    "df_filtered['Azimute'] = pd.to_numeric(df['Azimute'], errors='coerce')\n",
    "df_filtered['Azimute'] = df_filtered['Azimute'].astype(int)\n",
    "df_filtered['AnguloMeiaPotenciaAntena'] = pd.to_numeric(df['AnguloMeiaPotenciaAntena'], errors='coerce')\n",
    "df_filtered['AnguloElevacao'] = pd.to_numeric(df_filtered['AnguloElevacao'], errors='coerce')"
   ]
  },
  {
   "cell_type": "markdown",
   "metadata": {
    "id": "UBfDTmWFsYg_"
   },
   "source": [
    "The script below arrange the data in a list of tuples, which contain: \n",
    "1) The station number;\n",
    "2) The station azimuths;\n",
    "3) The smallest half-power angles for each azimuth;\n",
    "4) Each unique downtilt for azimuth.  "
   ]
  },
  {
   "cell_type": "code",
   "execution_count": 95,
   "metadata": {
    "executionInfo": {
     "elapsed": 4,
     "status": "ok",
     "timestamp": 1716925017597,
     "user": {
      "displayName": "RICARDO SILVA",
      "userId": "09638502435797738749"
     },
     "user_tz": 180
    },
    "id": "SPo_YwelYlm4"
   },
   "outputs": [],
   "source": [
    "#Groups the data by 'NumEstacao', 'Azimute' and 'AnguloElevacao' and selects the lowest value of 'AnguloMeiaPotenciaAntena'.\n",
    "min_values = df_filtered.groupby(['NumEstacao', 'Azimute', 'AnguloElevacao'])['AnguloMeiaPotenciaAntena'].min().reset_index()\n",
    "\n",
    "#Finds the minimum non-zero value in 'AnguloMeiaPotenciaAntena'.\n",
    "for index, row in min_values.iterrows():\n",
    "    if row['AnguloMeiaPotenciaAntena'] <= 0:\n",
    "        next_min = df_filtered[(df_filtered['NumEstacao'] == row['NumEstacao']) & (df_filtered['Azimute'] == row['Azimute']) & (df_filtered['AnguloMeiaPotenciaAntena'] > 0)]['AnguloMeiaPotenciaAntena'].min()\n",
    "        if not math.isnan(next_min):\n",
    "            min_values.at[index, 'AnguloMeiaPotenciaAntena'] = next_min\n",
    "\n",
    "#Group by 'NumEstacao' and build the list of azimuths and minimum half-power angle values, forming a list of tuples.\n",
    "df_stations_info = []\n",
    "for station in min_values['NumEstacao'].unique():\n",
    "    temp = min_values[min_values['NumEstacao'] == station]\n",
    "    azimuths = temp['Azimute'].tolist()\n",
    "    half_power_angles = temp['AnguloMeiaPotenciaAntena'].tolist()\n",
    "    downtilt = temp['AnguloElevacao'].tolist()\n",
    "    df_stations_info.append((station, azimuths, half_power_angles, downtilt))"
   ]
  },
  {
   "cell_type": "markdown",
   "metadata": {
    "id": "UBfDTmWFsYg_"
   },
   "source": [
    "In case of multi-tenant cell situations, the information of each station must to be grouped, so the function below was designed to do this grouping."
   ]
  },
  {
   "cell_type": "code",
   "execution_count": 96,
   "metadata": {
    "executionInfo": {
     "elapsed": 3,
     "status": "ok",
     "timestamp": 1716925017597,
     "user": {
      "displayName": "RICARDO SILVA",
      "userId": "09638502435797738749"
     },
     "user_tz": 180
    },
    "id": "eXJNpA_J4Po_"
   },
   "outputs": [],
   "source": [
    "def group_stations(info, *stations):\n",
    "    #Check if at least two stations are to be grouped.\n",
    "    if len(stations) < 2:\n",
    "        return \"At least two stations are required for merging.\"\n",
    "\n",
    "    #Find data for each station in the list.\n",
    "    station_data = []\n",
    "    for station in stations:\n",
    "        station_info = None\n",
    "        for data in info:\n",
    "            if data[0] == station:\n",
    "                station_info = data\n",
    "                break\n",
    "        if station_info is None:\n",
    "            return f\"Station {station} not found in the configuration list.\"\n",
    "        station_data.append(station_info)\n",
    "\n",
    "    #Combine station data while ensuring unique (azimuth, downtilt) pairs with the smallest half power angle.\n",
    "    azimuth_downtilt_to_half_power_angle = {}\n",
    "    for data in station_data:\n",
    "        if data[1] is not None and data[2] is not None and data[3] is not None:\n",
    "            for azimuth, angle, downtilt in zip(data[1], data[2], data[3]):\n",
    "                key = (azimuth, downtilt)\n",
    "                if key not in azimuth_downtilt_to_half_power_angle or angle < azimuth_downtilt_to_half_power_angle[key]:\n",
    "                    azimuth_downtilt_to_half_power_angle[key] = angle\n",
    "\n",
    "    #Extract the combined data.\n",
    "    new_azimuths = [key[0] for key in azimuth_downtilt_to_half_power_angle.keys()]\n",
    "    new_downtilts = [key[1] for key in azimuth_downtilt_to_half_power_angle.keys()]\n",
    "    new_half_power_angles = [azimuth_downtilt_to_half_power_angle[key] for key in azimuth_downtilt_to_half_power_angle.keys()]\n",
    "\n",
    "    #Create the number of the new station.\n",
    "    new_station_number = ' and '.join(map(str, stations))\n",
    "\n",
    "    #Remove original stations from the list.\n",
    "    for station in station_data:\n",
    "        info.remove(station)\n",
    "\n",
    "    #Add the new combined station to the list.\n",
    "    info.append((new_station_number, new_azimuths, new_half_power_angles, new_downtilts))\n",
    "\n",
    "    #Return the updated list.\n",
    "    return info"
   ]
  },
  {
   "cell_type": "markdown",
   "metadata": {
    "id": "UBfDTmWFsYg_"
   },
   "source": [
    "The cell below creates a dataframe with the combinations of ERBs that share the same infrastructure. Each column of 'combinations' is an association of different Station Numbers, it was also formulated manually following the methodology of the work and needs to be redone for the scenario to be evaluated. All half-power angles are changed to 3.7 degrees and 17.5 degrees, as established in one of the steps of the work methodology, these values must to be reviewed for each scenario evaluated."
   ]
  },
  {
   "cell_type": "code",
   "execution_count": 97,
   "metadata": {
    "executionInfo": {
     "elapsed": 3,
     "status": "ok",
     "timestamp": 1716925017597,
     "user": {
      "displayName": "RICARDO SILVA",
      "userId": "09638502435797738749"
     },
     "user_tz": 180
    },
    "id": "eXJNpA_J4Po_"
   },
   "outputs": [
    {
     "name": "stdout",
     "output_type": "stream",
     "text": [
      "[(922242, [45, 120, 210], [57.15, 57.15, 57.15], [0.0, 0.0, 0.0]), (5187354, [100, 100, 240, 350], [58.0, 60.0, 58.0, 58.0], [-2.0, -1.0, -1.0, -1.0]), (6556752, [20, 160, 250], [65.0, 65.0, 65.0], [0.0, 0.0, 0.0]), (431377928, [120, 240], [57.15, 57.15], [7.0, 7.0]), (441068146, [35, 55, 250], [60.0, 60.0, 60.0], [0.0, 0.0, -1.0]), (665600062, [70, 70, 140, 200, 300, 320], [65.0, 75.0, 65.0, 75.0, 65.0, 75.0], [5.0, 6.2, 5.0, 6.2, 6.0, 6.2]), (686142519, [10, 10, 100, 230], [70.39, 60.0, 60.0, 60.0], [-1.0, 0.0, 0.0, 0.0]), (686143205, [140, 250, 350], [60.0, 60.0, 60.0], [0.0, 0.0, 0.0]), (686696786, [30, 30, 150, 150, 270, 270], [68.89, 60.0, 68.89, 60.0, 68.89, 60.0], [-1.0, 0.0, -2.0, 0.0, -1.0, 0.0]), (690004206, [95, 290, 340], [58.0, 58.0, 58.0], [0.0, 0.0, 0.0]), (690904738, [80, 190, 320], [58.0, 58.0, 58.0], [0.0, 0.0, 0.0]), (690905823, [140, 240, 340], [65.0, 65.0, 65.0], [0.0, 0.0, 0.0]), (690905912, [15, 120, 240], [66.0, 66.0, 66.0], [0.0, 0.0, 0.0]), (690905939, [100, 100, 180, 180, 340, 340], [65.0, 65.0, 65.0, 65.0, 65.0, 65.0], [0.0, 15.6, 0.0, 15.6, 0.0, 15.6]), (691182450, [130, 220, 360], [65.0, 65.0, 65.0], [0.0, 0.0, 0.0]), (691182701, [120, 240, 360], [65.0, 65.0, 65.0], [0.0, 0.0, 0.0]), (691182760, [30, 30, 120, 120, 240, 240], [65.0, 65.0, 65.0, 65.0, 65.0, 65.0], [0.0, 15.6, 0.0, 15.6, 0.0, 15.6]), (691182850, [120, 240, 360], [65.0, 65.0, 65.0], [0.0, 0.0, 0.0]), (691182930, [80, 160, 290], [65.0, 65.0, 65.0], [0.0, 0.0, 0.0]), (691183031, [100, 100, 240, 240, 360, 360], [65.0, 62.3, 65.0, 62.3, 65.0, 62.3], [-2.0, 0.0, -2.0, 0.0, -2.0, 0.0]), (691223149, [100, 230, 310, 330], [58.0, 58.0, 60.0, 70.53], [0.0, 0.0, 0.0, 0.0]), (691346259, [120, 120, 260, 260, 360, 360], [65.0, 65.0, 65.0, 65.0, 65.0, 65.0], [0.0, 15.6, 0.0, 15.6, 0.0, 15.6]), (691347646, [190, 190, 190, 270, 270, 270, 360, 360, 360], [65.0, 62.03, 65.0, 65.0, 62.03, 65.0, 65.0, 62.03, 65.0], [0.0, 6.0, 15.6, 0.0, 7.0, 15.6, 0.0, 8.0, 15.6]), (691348090, [120, 120, 240, 240, 360, 360], [65.0, 69.68, 65.0, 69.68, 65.0, 69.68], [0.0, 10.0, 0.0, 10.0, 0.0, 10.0]), (691571643, [60, 60, 160, 160, 280, 280], [65.0, 65.0, 65.0, 65.0, 65.0, 65.0], [0.0, 15.6, 0.0, 15.6, 0.0, 15.6]), (692295992, [20, 20, 120, 120, 240, 240], [60.0, 65.0, 60.0, 65.0, 60.0, 65.0], [0.0, 15.6, 0.0, 15.6, 0.0, 15.6]), (692700170, [10, 150, 270], [58.0, 58.0, 58.0], [0.0, 0.0, 0.0]), (692914501, [5, 90, 130, 230, 270, 330], [62.03, 60.0, 62.03, 62.03, 60.0, 60.0], [-1.0, 0.0, 0.0, 0.0, 0.0, 0.0]), (693190442, [120, 120, 120, 240, 240, 240, 340, 340, 340], [65.0, 60.0, 63.0, 65.0, 60.0, 63.0, 65.0, 60.0, 63.0], [-1.0, 0.0, 2.0, -2.0, 0.0, 2.0, -5.0, 0.0, 2.0]), (695364405, [180, 270, 350], [60.0, 60.0, 60.0], [0.0, 0.0, 0.0]), (695561146, [140, 235, 340], [58.0, 58.0, 58.0], [0.0, 0.0, 0.0]), (695561219, [65, 130, 275], [58.0, 58.0, 58.0], [0.0, 0.0, 0.0]), (695706616, [120, 120, 220, 220, 320, 320], [65.0, 69.68, 65.0, 69.68, 65.0, 69.68], [0.0, 10.0, 0.0, 9.0, 0.0, 9.0]), (698154673, [20, 20, 140, 140, 220], [58.0, 60.0, 58.0, 60.0, 58.0], [-1.0, 0.0, -2.0, 0.0, 0.0]), (698178238, [90, 240, 340], [58.0, 58.0, 58.0], [0.0, 0.0, 0.0]), (1001843867, [0, 120, 230], [65.0, 65.0, 65.0], [-7.0, -7.0, -7.0]), (1002291736, [35, 35, 100, 100, 235], [65.0, 60.0, 65.0, 60.0, 60.0], [-1.0, 0.0, -1.0, 0.0, 0.0]), (1004211527, [110, 110, 110, 260, 260, 260, 360, 360, 360], [63.0, 63.0, 63.0, 63.0, 63.0, 63.0, 63.0, 63.0, 63.0], [0.0, 9.0, 13.0, 0.0, 7.0, 11.0, 0.0, 9.0, 13.0]), (1005215631, [100, 100, 240, 310, 310], [69.69, 60.0, 60.0, 69.69, 60.0], [-1.0, 0.0, 0.0, -1.0, 0.0]), (1006733571, [10, 110, 220], [60.0, 60.0, 60.0], [-2.0, -2.0, -2.0]), (1006918474, [200, 270, 325, 325], [60.0, 60.0, 68.89, 60.0], [0.0, 0.0, -1.0, 0.0]), (1008016958, [0, 120, 240], [65.0, 65.0, 65.0], [0.0, 0.0, 0.0]), (1008246368, [0, 120, 240], [65.0, 65.0, 65.0], [0.0, 0.0, 0.0]), (1008246376, [0, 120, 240], [74.0, 74.0, 74.0], [7.0, 7.0, 7.0]), (1008690713, [35, 120, 280], [65.0, 65.0, 65.0], [0.0, 0.0, 0.0]), (1008779110, [0, 0, 0, 110, 110, 110, 250, 250], [65.0, 62.03, 62.03, 65.0, 62.03, 62.03, 65.0, 62.03], [0.0, 6.0, 7.0, 0.0, 6.0, 7.0, 0.0, 4.0]), (1015604703, [0, 120, 240], [74.0, 74.0, 74.0], [-4.0, -4.0, -4.0]), ('695207075 and 922234', [5, 5, 120, 120, 150, 230, 0, 60, 280], [58.0, 60.0, 58.0, 60.0, 62.03, 58.0, 65.0, 65.0, 65.0], [-1.0, 0.0, -2.0, 0.0, 0.0, 0.0, 0.0, 0.0, 0.0]), ('1005343001 and 690905874', [0, 120, 240, 360], [60.0, 60.0, 60.0, 62.3], [0.0, 0.0, 0.0, 0.0]), ('1010052729 and 1009580156', [0, 0, 160, 160, 240, 240, 0, 0, 0, 170, 290, 350], [69.69, 60.0, 69.69, 60.0, 69.69, 60.0, 62.03, 62.03, 62.03, 65.0, 65.0, 65.0], [-1.0, 0.0, -1.0, 0.0, -1.0, 0.0, 16.0, 17.0, 18.0, 0.0, 0.0, 0.0]), ('1003228795 and 691183082', [25, 25, 130, 130, 300, 300, 120, 120, 120, 240, 240, 240, 360, 360, 360], [65.0, 65.0, 65.0, 65.0, 65.0, 65.0, 59.4, 65.0, 65.0, 59.4, 65.0, 65.0, 59.4, 65.0, 65.0], [-2.0, -1.0, -2.0, -1.0, -2.0, 0.0, 0.0, 6.0, 15.6, 0.0, 5.0, 15.6, 0.0, 6.0, 15.6]), ('1008016842 and 690905866', [0, 120, 240, 100, 100, 240, 330, 330], [65.0, 65.0, 60.0, 60.0, 65.0, 65.0, 60.0, 65.0], [0.0, 0.0, 0.0, 0.0, 15.6, 15.6, 0.0, 15.6]), ('1015630488 and 1003326657 and 691182728', [60, 180, 300, 0, 0, 120, 120, 210, 210, 110, 220, 340], [65.0, 65.0, 65.0, 65.0, 66.52, 65.0, 66.52, 65.0, 66.52, 60.0, 60.0, 60.0], [0.0, 0.0, 0.0, -2.0, 0.0, -2.0, -1.0, -2.0, -1.0, 0.0, 0.0, 0.0]), ('691182957 and 692817107', [40, 40, 50, 170, 170, 180, 360, 360], [65.0, 65.0, 68.0, 65.0, 65.0, 68.0, 55.0, 65.0], [0.0, 15.6, 0.0, 0.0, 15.6, 0.0, 0.0, 15.6])]\n"
     ]
    }
   ],
   "source": [
    "combinations = {\n",
    "    'station1': [695207075, 1005343001, 1010052729, 1003228795, 1008016842, 1015630488, 691182957],\n",
    "    'station2': [922234,    690905874,  1009580156, 691183082,  690905866,  1003326657, 692817107],\n",
    "    'station3': [None,      None,       None,       None,       None,       691182728,  None]\n",
    "}\n",
    "multi_tenant_towers = pd.DataFrame(combinations)\n",
    "\n",
    "#Runs the grouping function.\n",
    "for index, row in multi_tenant_towers.iterrows():\n",
    "    stations = [int(value) if pd.notnull(value) else None for value in row.values] # Ignore the 'Nones', they only exist so that the list has the same dimensions.\n",
    "    stations = [station for station in stations if station is not None] # Remove the 'Nones' before creating the list of grouped stations.\n",
    "    df_stations_grouped_info = group_stations(df_stations_info, *stations)\n",
    "\n",
    "df_stations_grouped_info_rearranged = []\n",
    "\n",
    "#Function to add data to the list of tuples with a specific value of half_power_angles.\n",
    "def add_station_info_with_half_power_angle(df_stations_info, half_power_angle):\n",
    "\n",
    "    for station_info in df_stations_info:\n",
    "        station_id = station_info[0]\n",
    "        azimuths = station_info[1]\n",
    "        downtilts = station_info[3]\n",
    "\n",
    "        for i in range(len(azimuths)):\n",
    "            temp_tuple = (station_id, [azimuths[i],azimuths[i]], half_power_angle, [downtilts[i],downtilts[i]])\n",
    "            df_stations_grouped_info_rearranged.append(temp_tuple)\n",
    "\n",
    "#Change half_power_angles to 3.7 and 17.5.\n",
    "add_station_info_with_half_power_angle(df_stations_info, [3.7, 17.5])\n",
    "\n",
    "print(df_stations_grouped_info)"
   ]
  },
  {
   "cell_type": "markdown",
   "metadata": {
    "id": "BvNS8JI0s7KH"
   },
   "source": [
    "## **Plots**"
   ]
  },
  {
   "cell_type": "markdown",
   "metadata": {
    "id": "UBfDTmWFsYg_"
   },
   "source": [
    "The cells below plots in a polar plot the tilt of the antenna and the half power angle of each azimuth of the stations and save it to a .zip file."
   ]
  },
  {
   "cell_type": "code",
   "execution_count": 98,
   "metadata": {
    "colab": {
     "base_uri": "https://localhost:8080/",
     "height": 34
    },
    "executionInfo": {
     "elapsed": 67296,
     "status": "ok",
     "timestamp": 1716925084890,
     "user": {
      "displayName": "RICARDO SILVA",
      "userId": "09638502435797738749"
     },
     "user_tz": 180
    },
    "id": "zw7iqHt2Ylm6",
    "outputId": "904c387d-19c9-46c6-88b7-5efe9d63b7e7"
   },
   "outputs": [],
   "source": [
    "def plot(azimuths, half_power_angles, downtilts, filename, rotate=False):\n",
    "    #Configures all bars with size 1, causes the visualization of the ERB sector coverage area to be filled from zero to the edge of the graph.\n",
    "    height_values = [1] * len(azimuths)\n",
    "\n",
    "    #Configures the plot between left and right sides.\n",
    "    if rotate:\n",
    "        downtilts = [(180 - d ) for d in downtilts]\n",
    "    else:\n",
    "        downtilts = [360 + d if d < 0 else d for d in downtilts]\n",
    "\n",
    "    #Converts angles from degrees to radians for plotting.\n",
    "    azimuths_rad = np.deg2rad(azimuths)\n",
    "    downtilts_rad = np.deg2rad(downtilts)\n",
    "    half_power_angles_rad = np.deg2rad(half_power_angles)\n",
    "\n",
    "    #Establish the polar plot.\n",
    "    plt.figure()\n",
    "    ax = plt.subplot(111, polar=True)\n",
    "\n",
    "    #Plot coverage areas\n",
    "    ax.bar(x=downtilts_rad, height=height_values, width=half_power_angles_rad, color='#FFCE00', alpha=0.3)\n",
    "\n",
    "    #Plot the red azimuth lines.\n",
    "    for downtilt_rad in downtilts_rad:\n",
    "        ax.plot([0, downtilt_rad], [0, 1], color='red', linewidth='2')\n",
    "        for half_power_angle_rad in half_power_angles_rad:\n",
    "            ax.plot([0, ((half_power_angle_rad/2) + downtilt_rad)], [0, 1], color='black', linewidth='2')\n",
    "            ax.plot([0, ((half_power_angle_rad/2) - half_power_angle_rad+ downtilt_rad)], [0, 1], color='black', linewidth='2')\n",
    "        plt.gcf().set_facecolor(\"none\")\n",
    "\n",
    "    #Create downtilt labels.\n",
    "    if rotate:\n",
    "        labels = [f'{round(180 - d, 1)}°' for d in downtilts]\n",
    "    else:\n",
    "        labels = [f'{round(d - 360, 1)}°' if d > 350 else d for d in downtilts]\n",
    "\n",
    "    #Plot settings.\n",
    "    ax.set_ylim(0, 1)\n",
    "    ax.set_xticks(downtilts_rad)\n",
    "    ax.set_xticklabels(labels, fontsize=12, weight='bold', fontfamily='serif')\n",
    "    ax.set_yticklabels([])\n",
    "    ax.grid(False)\n",
    "    ax.spines['polar'].set_visible(False)\n",
    "\n",
    "    #Save the figure locally.\n",
    "    plt.savefig(filename, format='png', dpi=600, transparent=True)\n",
    "    plt.close()\n",
    "\n",
    "    return rotate"
   ]
  },
  {
   "cell_type": "code",
   "execution_count": 99,
   "metadata": {},
   "outputs": [],
   "source": [
    "#List to store generated file names.\n",
    "filenames = []\n",
    "\n",
    "#Generate and save graphs.\n",
    "for station, azimuths, half_power_angles, downtilts in df_stations_grouped_info_rearranged:\n",
    "    filename = f'{station}_az{azimuths[0]}_dt{downtilts[0]}.png' #File name.\n",
    "    rotate = plot(azimuths, half_power_angles, downtilts, filename, rotate=True)\n",
    "    filenames.append(filename)\n",
    "\n",
    "direction = 'left' if rotate else 'right'\n",
    "\n",
    "#Create and save the .zip file.\n",
    "zip_filename = f'floor_analysis_{direction}.zip'\n",
    "with zipfile.ZipFile(zip_filename, 'w') as zipf:\n",
    "    for filename in filenames:\n",
    "        zipf.write(filename)\n",
    "\n",
    "#Remove PNG files after adding to zip.\n",
    "for filename in filenames:\n",
    "    os.remove(filename)"
   ]
  }
 ],
 "metadata": {
  "colab": {
   "authorship_tag": "ABX9TyOeHkthpdgYg8eBVIF1Y3GI",
   "provenance": []
  },
  "kernelspec": {
   "display_name": "Python 3 (ipykernel)",
   "language": "python",
   "name": "python3"
  },
  "language_info": {
   "codemirror_mode": {
    "name": "ipython",
    "version": 3
   },
   "file_extension": ".py",
   "mimetype": "text/x-python",
   "name": "python",
   "nbconvert_exporter": "python",
   "pygments_lexer": "ipython3",
   "version": "3.10.12"
  }
 },
 "nbformat": 4,
 "nbformat_minor": 4
}
