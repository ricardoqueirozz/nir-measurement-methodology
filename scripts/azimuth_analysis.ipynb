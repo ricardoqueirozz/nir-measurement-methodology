{
 "cells": [
  {
   "cell_type": "markdown",
   "metadata": {
    "id": "nH1kX0sEsCC4"
   },
   "source": [
    "## **Imports**"
   ]
  },
  {
   "cell_type": "markdown",
   "metadata": {
    "id": "UBfDTmWFsYg_"
   },
   "source": [
    "First, it's necessary to import the libraries that will be used in the script below and the dataset obtained from the [website](https://sistemas.anatel.gov.br/se/public/view/b/licenciamento.php) of the Brazilian National Telecommunications Agency."
   ]
  },
  {
   "cell_type": "markdown",
   "metadata": {
    "id": "nH1kX0sEsCC4"
   },
   "source": [
    "### **Libraries**"
   ]
  },
  {
   "cell_type": "code",
   "execution_count": 1,
   "metadata": {
    "executionInfo": {
     "elapsed": 418,
     "status": "ok",
     "timestamp": 1716925015549,
     "user": {
      "displayName": "RICARDO SILVA",
      "userId": "09638502435797738749"
     },
     "user_tz": 180
    },
    "id": "J-I-XrgDrw4O"
   },
   "outputs": [],
   "source": [
    "import pandas as pd\n",
    "import matplotlib.pyplot as plt\n",
    "import matplotlib.font_manager as fm\n",
    "import numpy as np\n",
    "import math\n",
    "import zipfile\n",
    "import os\n",
    "\n",
    "font_dir = '/usr/share/fonts/truetype/msttcorefonts/'\n",
    "fm.fontManager.addfont(font_dir + 'Times_New_Roman.ttf')\n",
    "plt.rcParams['font.family'] = 'Times New Roman'"
   ]
  },
  {
   "cell_type": "markdown",
   "metadata": {
    "id": "nH1kX0sEsCC4"
   },
   "source": [
    "### **Dataset**\n",
    "\n",
    "The dataset columns used in this scripts are:\n",
    "* **'NumEstacao':** unique number that characterizes a station;\n",
    "* **'DataValidade':** expiration date of that radio frequency associated with the station;\n",
    "* **'Azimute':** positioning in degrees in relation to the north of the antenna radiation main lobe;\n",
    "* **'AnguloMeiaPotenciaAntena':** half power angle in degrees."
   ]
  },
  {
   "cell_type": "code",
   "execution_count": 2,
   "metadata": {
    "colab": {
     "base_uri": "https://localhost:8080/"
    },
    "executionInfo": {
     "elapsed": 2050,
     "status": "ok",
     "timestamp": 1716925017596,
     "user": {
      "displayName": "RICARDO SILVA",
      "userId": "09638502435797738749"
     },
     "user_tz": 180
    },
    "id": "DF_iVOqqsLg_",
    "outputId": "1cc227f6-1b7d-4f74-90fb-5e2a2674df59"
   },
   "outputs": [],
   "source": [
    "#The variable path must contain a string with the path to the dataset used.\n",
    "\n",
    "#path = '/home/oai-ufrn/Repositories/nir-measurement-methodology/datasets/natal_04_11_2024.csv' #2024\n",
    "#year = '2024'\n",
    "\n",
    "path = '/home/oai-ufrn/Repositories/nir-measurement-methodology/datasets/natal_03_31_2025.csv' #2025\n",
    "year = '2025'\n",
    "\n",
    "results_path = '/home/oai-ufrn/Repositories/nir-measurement-methodology/results/' + str(year) +'/azimuth_analysis'\n",
    "os.makedirs(results_path, exist_ok=True) \n",
    "\n",
    "df = pd.read_csv(path, encoding='unicode_escape')"
   ]
  },
  {
   "cell_type": "markdown",
   "metadata": {
    "id": "UBfDTmWFsYg_"
   },
   "source": [
    "## **Data Adjustment**"
   ]
  },
  {
   "cell_type": "markdown",
   "metadata": {
    "id": "UBfDTmWFsYg_"
   },
   "source": [
    "The cell below creates a dataframe with the stations selected in previous steps of the methodology, it must be changed with the station numbers of the scenario to be evaluated."
   ]
  },
  {
   "cell_type": "markdown",
   "metadata": {
    "executionInfo": {
     "elapsed": 4,
     "status": "ok",
     "timestamp": 1716925017597,
     "user": {
      "displayName": "RICARDO SILVA",
      "userId": "09638502435797738749"
     },
     "user_tz": 180
    },
    "id": "SPo_YwelYlm4"
   },
   "source": [
    "#2024\n",
    "filter = {\n",
    "    'NumStation': [\n",
    "        922234, 922242, 5187354, 6556752, 431377928, 441068146, 665600062, 686142519,\n",
    "        686143205, 686696786, 690004206, 690904738, 690905823, 690905866, 690905874,\n",
    "        690905912, 690905939, 691182450, 691182701, 691182728, 691182760, 691182850,\n",
    "        691182930, 691182957, 691183031, 691183082, 691223149, 691346259, 691347646,\n",
    "        691348090, 691571643, 692295992, 692700170, 692817107, 692914501, 693190442,\n",
    "        695207075, 695364405, 695561146, 695561219, 695706616, 698154673, 698178238,\n",
    "        1001843867, 1002291736, 1003228795, 1003326657, 1004211527, 1005215631, 1005343001,\n",
    "        1006733571, 1006918474, 1008016842, 1008016958, 1008246368, 1008246376, 1008690713,\n",
    "        1008779110, 1009580156, 1010052729, 1015604703, 1015630488\n",
    "]}\n",
    "filter = pd.DataFrame(filter)"
   ]
  },
  {
   "cell_type": "code",
   "execution_count": 3,
   "metadata": {
    "executionInfo": {
     "elapsed": 4,
     "status": "ok",
     "timestamp": 1716925017597,
     "user": {
      "displayName": "RICARDO SILVA",
      "userId": "09638502435797738749"
     },
     "user_tz": 180
    },
    "id": "SPo_YwelYlm4"
   },
   "outputs": [],
   "source": [
    "#2025\n",
    "filter = {\n",
    "    'NumStation': [\n",
    "        907936, 922234, 922242, 949540, 4861469, 5187354, 6556752, 431377880, 431377898,\n",
    "        431377910, 431377928, 441068146, 665596960, 665599552, 665643896, 665756810, 665756836,\n",
    "        665756852, 665756860, 665756895, 683585746, 686142519, 686143205, 686696786, 690004206,\n",
    "        690904738, 690905823, 690905866, 690905874, 690905912, 690905939, 691182450, 691182701,\n",
    "        691182728, 691182760, 691182850, 691183031, 691183082, 691346259, 691347646, 691571643,\n",
    "        691986827, 692295992, 692914501, 695207075, 695561146, 695561219, 695706616, 698178238,\n",
    "        1001843867, 1003228558, 1003228795, 1003326657, 1004211527, 1005343001, 1006733571,\n",
    "        1006918474, 1008016842, 1008016958, 1008246368, 1008246376, 1008779110, 1015098069,\n",
    "        1015604703, 1015630488, 1015804915, 1016093370, 1016098542, 1016116109, 1016158405,\n",
    "        1016159665, 1016224459, 1016257594, 1016273476, 1016305017, 1016305025, 1016343750,\n",
    "        1016356339, 1016487565, 1016540237, 1016560181, 665600062\n",
    "]}\n",
    "filter = pd.DataFrame(filter)"
   ]
  },
  {
   "cell_type": "markdown",
   "metadata": {
    "id": "UBfDTmWFsYg_"
   },
   "source": [
    "Some columns are not in the a format usable for the script, so they have been fixed. Rows whose 'DataValidade' value is prior to the year the work was developed need to be removed."
   ]
  },
  {
   "cell_type": "code",
   "execution_count": 4,
   "metadata": {
    "executionInfo": {
     "elapsed": 4,
     "status": "ok",
     "timestamp": 1716925017597,
     "user": {
      "displayName": "RICARDO SILVA",
      "userId": "09638502435797738749"
     },
     "user_tz": 180
    },
    "id": "SPo_YwelYlm4"
   },
   "outputs": [],
   "source": [
    "#Conversion of the column 'DataValidade' to the datetime64[ns] type.\n",
    "df['DataValidade'] = pd.to_datetime(df['DataValidade'])\n",
    "\n",
    "#Exclusion of lines of 'DataValidade' prior to December 31, 2023.\n",
    "df = df[df['DataValidade'] > pd.to_datetime(str(year)+'-01-01', format='%Y-%m-%d')]\n",
    "\n",
    "#Filtering of the ANATEL's dataset based on the stations manually selected.\n",
    "df_filtered = df.loc[df['NumEstacao'].isin(filter['NumStation'])].copy()\n",
    "\n",
    "#Correction of the data type of the columns 'Azimute' and 'AnguloMeiaPotenciaAntena'.\n",
    "df_filtered['Azimute'] = pd.to_numeric(df['Azimute'], errors='coerce')\n",
    "df_filtered['Azimute'] = df_filtered['Azimute'].astype(int)\n",
    "df_filtered['AnguloMeiaPotenciaAntena'] = pd.to_numeric(df['AnguloMeiaPotenciaAntena'], errors='coerce')"
   ]
  },
  {
   "cell_type": "markdown",
   "metadata": {
    "id": "UBfDTmWFsYg_"
   },
   "source": [
    "To visualize the worst coverage scenario, only the lowest value of the half-power angle must to be used in the plots. The script below arrange the data in a list of tuples, which contain: \n",
    "1) The station number;\n",
    "2) The station azimuths;\n",
    "3) The smallest half-power angles for each azimuth. "
   ]
  },
  {
   "cell_type": "code",
   "execution_count": 5,
   "metadata": {
    "executionInfo": {
     "elapsed": 4,
     "status": "ok",
     "timestamp": 1716925017597,
     "user": {
      "displayName": "RICARDO SILVA",
      "userId": "09638502435797738749"
     },
     "user_tz": 180
    },
    "id": "SPo_YwelYlm4"
   },
   "outputs": [],
   "source": [
    "#Groups the data by 'NumEstacao' and 'Azimute' and selects the lowest value of 'AnguloMeiaPotenciaAntena'.\n",
    "min_values = df_filtered.groupby(['NumEstacao', 'Azimute'])['AnguloMeiaPotenciaAntena'].min().reset_index()\n",
    "\n",
    "#Finds the minimum non-zero value in 'AnguloMeiaPotenciaAntena'.\n",
    "for index, row in min_values.iterrows():\n",
    "    if row['AnguloMeiaPotenciaAntena'] <= 0:\n",
    "        next_min = df_filtered[(df_filtered['NumEstacao'] == row['NumEstacao']) & (df_filtered['Azimute'] == row['Azimute']) & (df_filtered['AnguloMeiaPotenciaAntena'] > 0)]['AnguloMeiaPotenciaAntena'].min()\n",
    "        if not math.isnan(next_min):\n",
    "            min_values.at[index, 'AnguloMeiaPotenciaAntena'] = next_min\n",
    "\n",
    "#Group by 'NumEstacao' and build the list of azimuths and minimum half-power angle values, forming a list of tuples.\n",
    "df_stations_info = []\n",
    "for station in min_values['NumEstacao'].unique():\n",
    "    temp = min_values[min_values['NumEstacao'] == station]\n",
    "    azimuths = temp['Azimute'].tolist()\n",
    "    half_power_angles = temp['AnguloMeiaPotenciaAntena'].tolist()\n",
    "    df_stations_info.append((station, azimuths, half_power_angles))"
   ]
  },
  {
   "cell_type": "markdown",
   "metadata": {
    "id": "UBfDTmWFsYg_"
   },
   "source": [
    "In case of multi-tenant cell situations, the information of each station must to be grouped, so the function below was designed to do this grouping."
   ]
  },
  {
   "cell_type": "code",
   "execution_count": 6,
   "metadata": {
    "executionInfo": {
     "elapsed": 3,
     "status": "ok",
     "timestamp": 1716925017597,
     "user": {
      "displayName": "RICARDO SILVA",
      "userId": "09638502435797738749"
     },
     "user_tz": 180
    },
    "id": "eXJNpA_J4Po_"
   },
   "outputs": [],
   "source": [
    "def group_stations(info, *stations):\n",
    "    #Check if at least two stations are to be grouped.\n",
    "    if len(stations) < 2:\n",
    "        return \"At least two stations are required for merging.\"\n",
    "\n",
    "    #Find data for each station in the list.\n",
    "    station_data = []\n",
    "    for station in stations:\n",
    "        station_info = None\n",
    "        for data in info:\n",
    "            if data[0] == station:\n",
    "                station_info = data\n",
    "                break\n",
    "        if station_info is None:\n",
    "            return f\"Station {station} not found in the configuration list.\"\n",
    "        station_data.append(station_info)\n",
    "\n",
    "    #Combine station data.\n",
    "    new_azimuths = [azimuth for data in station_data if data[1] is not None for azimuth in data[1]]\n",
    "    new_half_power_angles = [angle for data in station_data if data[2] is not None for angle in data[2]]\n",
    "\n",
    "    #Create the number of the new station.\n",
    "    new_station_number = ' and '.join(map(str, stations))\n",
    "\n",
    "    #Remove original stations from the list.\n",
    "    for station in station_data:\n",
    "        info.remove(station)\n",
    "\n",
    "    #Add the new combined station to the list.\n",
    "    info.append((new_station_number, new_azimuths, new_half_power_angles))\n",
    "\n",
    "    #Return the updated list.\n",
    "    return info"
   ]
  },
  {
   "cell_type": "markdown",
   "metadata": {
    "id": "UBfDTmWFsYg_"
   },
   "source": [
    "The cell below creates a dataframe with the combinations of ERBs that share the same infrastructure. Each column of 'combinations' is an association of different Station Numbers, it was also formulated manually following the methodology of the work and needs to be redone for the scenario to be evaluated."
   ]
  },
  {
   "cell_type": "raw",
   "metadata": {},
   "source": [
    "#2024\n",
    "combinations = {\n",
    "    'station1': [695207075, 1005343001, 1010052729, 1003228795, 1008016842, 1015630488, 691182957],\n",
    "    'station2': [922234,    690905874,  1009580156, 691183082,  690905866,  1003326657, 692817107],\n",
    "    'station3': [None,      None,       None,       None,       None,       691182728,  None]\n",
    "}\n",
    "multi_tenant_towers = pd.DataFrame(combinations)"
   ]
  },
  {
   "cell_type": "code",
   "execution_count": 7,
   "metadata": {
    "executionInfo": {
     "elapsed": 3,
     "status": "ok",
     "timestamp": 1716925017597,
     "user": {
      "displayName": "RICARDO SILVA",
      "userId": "09638502435797738749"
     },
     "user_tz": 180
    },
    "id": "eXJNpA_J4Po_"
   },
   "outputs": [],
   "source": [
    "#2025\n",
    "combinations = {\n",
    "    'station1': [665599552,  1015630488, 1016560181, 691182701, 691182760, 665756836, 665756852, 691347646,  695561219, 1003228795, 922242,    695207075, 691183031,  431377928, 1016159665, 1005343001, 1008016842, 1016257594],\n",
    "    'station2': [1006733571, 1003326657, 1016343750, 431377898, 4861469,   6556752,   441068146, 1015804915, 431377910, 691183082,  665643896, 922234,    1016098542, 665596960, 1008779110, 690905874,  690905866,  1016093370],\n",
    "    'station3': [431377880,  691182728,  1004211527, None,      None,      None,      None,      None,       None,      None,       None,      None,      None,       None,      None,       None,       None,       None      ],\n",
    "    'station4': [None,       1015098069, None,       None,      None,      None,      None,      None,       None,      None,       None,      None,      None,       None,      None,       None,       None,       None      ]\n",
    "}\n",
    "multi_tenant_towers = pd.DataFrame(combinations)\n",
    "\n",
    "#Runs the grouping function\n",
    "for index, row in multi_tenant_towers.iterrows():\n",
    "    stations = [int(value) if pd.notnull(value) else None for value in row.values] #Ignore the 'Nones', they only exist so that the list has the same dimensions.\n",
    "    stations = [station for station in stations if station is not None] #Remove the 'Nones' before creating the list of grouped stations.\n",
    "    df_stations_info = group_stations(df_stations_info, *stations)"
   ]
  },
  {
   "cell_type": "markdown",
   "metadata": {
    "id": "BvNS8JI0s7KH"
   },
   "source": [
    "## **Plots**"
   ]
  },
  {
   "cell_type": "markdown",
   "metadata": {
    "id": "UBfDTmWFsYg_"
   },
   "source": [
    "The cells below plots the polar graphs of the coverage area of the stations and save it to a .zip file."
   ]
  },
  {
   "cell_type": "code",
   "execution_count": 8,
   "metadata": {
    "colab": {
     "base_uri": "https://localhost:8080/",
     "height": 34
    },
    "executionInfo": {
     "elapsed": 67296,
     "status": "ok",
     "timestamp": 1716925084890,
     "user": {
      "displayName": "RICARDO SILVA",
      "userId": "09638502435797738749"
     },
     "user_tz": 180
    },
    "id": "zw7iqHt2Ylm6",
    "outputId": "904c387d-19c9-46c6-88b7-5efe9d63b7e7"
   },
   "outputs": [],
   "source": [
    "def plot(azimuths, half_power_angles, filename, results_path):\n",
    "    #Configures all bars with size 1, causes the visualization of the ERB sector coverage area to be filled from zero to the edge of the graph.\n",
    "    height_values = [1] * len(azimuths)\n",
    "\n",
    "    #Convert angles from degrees to radians to be plotted.\n",
    "    azimuths_rad = np.deg2rad(azimuths)\n",
    "    half_power_angles_rad = np.deg2rad(half_power_angles)\n",
    "\n",
    "    #Establish the polar plot.\n",
    "    plt.figure()\n",
    "    ax = plt.subplot(111, polar=True)\n",
    "\n",
    "    #Plot coverage areas.\n",
    "    ax.bar(x=azimuths_rad, height=height_values, width=half_power_angles_rad, color='#FFCE00', edgecolor='#D69400', alpha=0.3)\n",
    "\n",
    "    #Configure axis limits.\n",
    "    angles = [0, np.pi/2, np.pi, 3*np.pi/2]\n",
    "    for angle in angles:\n",
    "        ax.plot([0, angle], [0, 1], color='black')\n",
    "        plt.gcf().set_facecolor(\"none\")\n",
    "\n",
    "    #Plot the red azimuth lines.\n",
    "    for azimuth_rad in azimuths_rad:\n",
    "        ax.plot([0, azimuth_rad], [0, 1], color='red', linewidth='2')\n",
    "        plt.gcf().set_facecolor(\"none\")\n",
    "\n",
    "    #Adds 'azimuths_rad' and 'angles'.\n",
    "    angles.extend(azimuths_rad)\n",
    "    #Replaces '360' values with '0' in the azimuth list so there is no overlap in the image.\n",
    "    for i in range(len(azimuths)):\n",
    "        if azimuths[i] == 360:\n",
    "            azimuths[i] = 0\n",
    "    #Create azimuth labels.\n",
    "    labels = [0, 90, 180, 270]\n",
    "    labels.extend(azimuths)\n",
    "\n",
    "    #Plot settings.\n",
    "    ax.set_ylim(0, 1)\n",
    "    ax.set_xticks(angles)\n",
    "    ax.set_xticklabels(labels, fontsize=20, weight='bold')\n",
    "    for tick in ax.xaxis.get_major_ticks():\n",
    "        tick.set_pad(15)\n",
    "    ax.set_yticklabels([])\n",
    "    ax.set_theta_direction(-1)\n",
    "    ax.set_theta_zero_location('N')\n",
    "    ax.grid(False)\n",
    "    ax.spines['polar'].set_linewidth(2)\n",
    "\n",
    "    os.makedirs(results_path, exist_ok=True)\n",
    "    complete_path = os.path.join(results_path, filename)\n",
    "    \n",
    "    #Save the figure locally.\n",
    "    plt.savefig(complete_path, format='png', dpi=600, transparent=True)\n",
    "    plt.close()"
   ]
  },
  {
   "cell_type": "code",
   "execution_count": 9,
   "metadata": {},
   "outputs": [],
   "source": [
    "#List to store generated file names.\n",
    "filenames = []\n",
    "\n",
    "#Generate and save graphs.\n",
    "for station, azimuths, half_power_angles in df_stations_info:\n",
    "    filename = f'{station}.png' #File name.\n",
    "    plot(azimuths, half_power_angles, filename, results_path)\n",
    "    filenames.append(filename)\n",
    "\n",
    "#Create and save the .zip file.\n",
    "zip_filename = f\"azimuth_analysis_{year}.zip\"\n",
    "zip_filepath = os.path.join(results_path, zip_filename)\n",
    "\n",
    "with zipfile.ZipFile(zip_filepath, \"w\") as zipf:\n",
    "    for filepath in filenames:\n",
    "        zipf.write(results_path +'/' + filepath, os.path.basename(filepath))"
   ]
  },
  {
   "cell_type": "code",
   "execution_count": null,
   "metadata": {},
   "outputs": [],
   "source": []
  }
 ],
 "metadata": {
  "colab": {
   "authorship_tag": "ABX9TyOeHkthpdgYg8eBVIF1Y3GI",
   "provenance": []
  },
  "kernelspec": {
   "display_name": "Python 3 (ipykernel)",
   "language": "python",
   "name": "python3"
  },
  "language_info": {
   "codemirror_mode": {
    "name": "ipython",
    "version": 3
   },
   "file_extension": ".py",
   "mimetype": "text/x-python",
   "name": "python",
   "nbconvert_exporter": "python",
   "pygments_lexer": "ipython3",
   "version": "3.10.12"
  }
 },
 "nbformat": 4,
 "nbformat_minor": 4
}
